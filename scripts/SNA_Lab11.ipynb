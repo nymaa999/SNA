{
  "nbformat": 4,
  "nbformat_minor": 0,
  "metadata": {
    "colab": {
      "provenance": []
    },
    "kernelspec": {
      "name": "python3",
      "display_name": "Python 3"
    },
    "language_info": {
      "name": "python"
    }
  },
  "cells": [
    {
      "cell_type": "markdown",
      "source": [
        "\n",
        "Энэхүү лаборторын ажлаар Linkpred сангийн хэрэглээний талаар авч үзлээ.\n",
        "\n",
        "**linkpred гэж юу вэ?**\n",
        "\n",
        "linkpred бол графан дээр ирээдүйд үүсч болох холбоосуудыг (edge) урьдчилан таамаглахад зориулагдсан Python сан юм.\n",
        "\n",
        "  Жишээлбэл: Хоёр хүн одоогоор найз биш ч ирээдүйд найз болох магадлалтай эсэхийг таамаглах."
      ],
      "metadata": {
        "id": "75HPa919ETLO"
      }
    },
    {
      "cell_type": "markdown",
      "source": [
        "1. Таамаглах үйл явцын дараалал\n",
        "linkpred нь дараах 3-н үе шаттайгаар Холбоосыг таамаглах үйл явцыг биелүүлдэг.\n",
        "  1. Сүлжээгээ байгуулах - Network Loading\n",
        "  2. Таамаглагчаа сонгох, аппликейшн - Predictor selection and application\n",
        "  3. Үр дүн үнэлэх - Results evaluation"
      ],
      "metadata": {
        "id": "nAy3GbAPzY6a"
      }
    },
    {
      "cell_type": "markdown",
      "source": [
        "1.A Файлаас уншиж сүлжээг байгуулах \\\\\n",
        "\n",
        "\n",
        "  Эхлээд, linkpred нь файлаас графыг уншихыг шаарддаг. Бид энэ удаа Game of Thrones Season 6\n",
        "  (Хаадын тоглоом цуврал)-ийн ирмэгүүдийн мэдээллийг ашиглана."
      ],
      "metadata": {
        "id": "MTDWr2fxzpfW"
      }
    },
    {
      "cell_type": "code",
      "execution_count": null,
      "metadata": {
        "id": "uQLU1S1fHIN6"
      },
      "outputs": [],
      "source": [
        "import matplotlib.pyplot as plt\n",
        "import networkx as nx\n",
        "import linkpred\n",
        "\n",
        "def read_net_w(filename):\n",
        "    g = nx.Graph()\n",
        "    with open(filename) as f:\n",
        "        f.readline()\n",
        "        for l in f:\n",
        "            l = l.split(\",\")\n",
        "            g.add_edge(l[0], l[1], weight=int(l[2]))\n",
        "    return g\n",
        "\n",
        "# Game of Thrones data\n",
        "g = read_net_w(f'/datalab/got-s6-edges.csv')\n",
        "\n"
      ]
    },
    {
      "cell_type": "markdown",
      "source": [
        "1.B Удирдлагагүй сургалтын таамаглагч тооцоолох \\\\\n",
        "linkpred нь 4 бүлэг удирдлагагүй сургалтын таамаглагчид өргөн хэрэглэгдэж байна. Үүнд:\n",
        "  \n",
        "*   Neighborhood: \\\\\n",
        "    AdamicAdar, AssociationStrength, CommonNeighbours, Cosine, DegreeProduct,\n",
        "    Jaccard, MaxOverlap, MinOverlap, NMeasure, Pearson,ResourceAllocation\n",
        "*   Paths: \\\\\n",
        "    GraphDistance, Katz\n",
        "*   Ranking:\n",
        "    SimRank, RootedPageRank\n",
        "*    Miscellanea: \\\\\n",
        "    Community, Copy, Random\n",
        "  \n",
        "  Энгийн ойлгомжтой байлгахын тулд сонгогдсон таамаглагч бүрт топ-5 нь үр дүнг харууллаа."
      ],
      "metadata": {
        "id": "7pXq2-bV1wWI"
      }
    },
    {
      "cell_type": "markdown",
      "source": [
        "1.B.1 Neighborhood \\\\\n",
        "Эхний хэсэг бүлэг таамаглагч бол зангилаа бүрийн хувьд холбогдох боломжтой хос оройг уг хоёр оройн\n",
        "хөрш оройнуудтайгаа хэр хүчтэй сул холбогдсон байдлаас үүдэн холбоосыг\n",
        "үүсэх эсэх магадлалаар олдог.\n",
        "Энэ төрлийн таамаглагчид нь дараах асуултанд хариулт олохыг хичээдэг. How many friend we have to\n",
        "share in order to become friends? \\\\\n",
        "\n",
        "**Common Neighbors** \\\\\n",
        "\n",
        "Илүү олон дундын найзуудтай бол бид найз болох магадлал өндөр байна."
      ],
      "metadata": {
        "id": "xjfpWUeG3ATm"
      }
    },
    {
      "cell_type": "code",
      "source": [
        "cn = linkpred.predictors.CommonNeighbours(g, excluded=g.edges()) # We aim to predict only new links, thus we exclude existing ones\n",
        "cn_results = cn.predict()\n",
        "\n",
        "top = cn_results.top(5)\n",
        "for edge, score in top.items():\n",
        "    print(edge, score)\n"
      ],
      "metadata": {
        "colab": {
          "base_uri": "https://localhost:8080/"
        },
        "id": "vJY5uhLc3XZy",
        "outputId": "05dc1efa-c22b-4bfe-8746-dc84a920d0b2"
      },
      "execution_count": null,
      "outputs": [
        {
          "output_type": "stream",
          "name": "stdout",
          "text": [
            "TOMMEN - MACE 8.0\n",
            "NED - LADY_CRANE 8.0\n",
            "NED - CLARENZO 8.0\n",
            "MARGAERY - IZEMBARO 8.0\n",
            "MARGAERY - ARYA 8.0\n"
          ]
        }
      ]
    },
    {
      "cell_type": "markdown",
      "source": [
        " **Jaccard** \\\\\n",
        "Топологи бүтэц болон аттрибутуудын ижил төсөөтэй байдал нь найз болох эсэхийг тодорхойлно."
      ],
      "metadata": {
        "id": "AEmvSFJB3vGb"
      }
    },
    {
      "cell_type": "code",
      "source": [
        "jc = linkpred.predictors.Jaccard(g, excluded=g.edges())\n",
        "jc_results = jc.predict()\n",
        "\n",
        "top = jc_results.top(5)\n",
        "for edge, score in top.items():\n",
        "    print(edge, score)"
      ],
      "metadata": {
        "colab": {
          "base_uri": "https://localhost:8080/"
        },
        "id": "KfKGAOij37Qc",
        "outputId": "5027da33-3538-4b66-a29c-2c3409b65b57"
      },
      "execution_count": null,
      "outputs": [
        {
          "output_type": "stream",
          "name": "stdout",
          "text": [
            "RED_PRIEST - KINVARA 1.0\n",
            "LITTLE_SAM - DICKON 1.0\n",
            "TOMMEN - MACE 0.7272727272727273\n",
            "JOFFREY - CAMELLO 0.7272727272727273\n",
            "OLD_NAN - BENJEN 0.7142857142857143\n"
          ]
        }
      ]
    },
    {
      "cell_type": "markdown",
      "source": [
        "**Adamic Adar** \\\\\n",
        "\n",
        "Бидний дундын найзын тоо нь биднийг найз болох эсэхийг тодорхойлоход ашиглагдана."
      ],
      "metadata": {
        "id": "ijlFFfl64H8o"
      }
    },
    {
      "cell_type": "code",
      "source": [
        "aa = linkpred.predictors.AdamicAdar(g, excluded=g.edges())\n",
        "aa_results = aa.predict()\n",
        "\n",
        "top = aa_results.top(5)\n",
        "for edge, score in top.items():\n",
        "    print(edge, score)"
      ],
      "metadata": {
        "colab": {
          "base_uri": "https://localhost:8080/"
        },
        "id": "YmsP_I3H4Quv",
        "outputId": "7a6265db-9b1c-4722-bbfd-dbe61bf58b44"
      },
      "execution_count": null,
      "outputs": [
        {
          "output_type": "stream",
          "name": "stdout",
          "text": [
            "TOMMEN - MACE 3.1875572810307897\n",
            "NED - LADY_CRANE 3.1263711657257836\n",
            "NED - CLARENZO 3.1263711657257836\n",
            "SANSA - ROBB 3.0966443151332466\n",
            "JOFFREY - CAMELLO 2.8944937119329137\n"
          ]
        }
      ]
    },
    {
      "cell_type": "markdown",
      "source": [
        "1.B.2 Paths \\\\\n",
        "Хоёрдогч төрлийн таамаглагчид нь хос оройн хоорондын зайнаас хамаарч тэд ирээдүйд холбогдох эсэхийг магадлаар боддог.\n",
        "Энэ төрлийн таамаглагчид нь дараах асуултад хариулт олохыг хичээдэг: How distant are we?\n",
        "\n",
        "Katz\n",
        "\n",
        "Катц хоёр зангилааны хоорондох бүх замуудын жигнэсэн нийлбэрийг тооцдог."
      ],
      "metadata": {
        "id": "KDOhzApI4WAJ"
      }
    },
    {
      "cell_type": "code",
      "source": [
        "kz = linkpred.predictors.Katz(g, excluded=g.edges())\n",
        "kz_results = kz.predict()\n",
        "\n",
        "top = kz_results.top(5)\n",
        "for edge, score in top.items():\n",
        "    print(edge, score)"
      ],
      "metadata": {
        "colab": {
          "base_uri": "https://localhost:8080/"
        },
        "id": "uamwdVZ143g2",
        "outputId": "c880f80a-82e8-4eb9-d3a4-f90c48ea51a8"
      },
      "execution_count": null,
      "outputs": [
        {
          "output_type": "stream",
          "name": "stdout",
          "text": [
            "\n",
            "LADY_CRANE - JAQEN 0.005571576860773001\n",
            "SANSA - ALLISER_THORNE 0.004234378077202\n",
            "TYRION - DAARIO 0.004145905054793999\n",
            "CERSEI - BRIENNE 0.0038862606857720003\n",
            "MELISANDRE - LYANNA_MORMONT 0.0035937193855959996\n"
          ]
        }
      ]
    },
    {
      "cell_type": "markdown",
      "source": [
        "\n",
        "**Graph Distance** \\\\\n",
        "\n",
        "Графын зай буюу Distance нь хоёр оройн хоорондын богино замын уртаар тодорхойлогдоно."
      ],
      "metadata": {
        "id": "7inJuYpR5EZN"
      }
    },
    {
      "cell_type": "code",
      "source": [
        "gd = linkpred.predictors.GraphDistance(g, excluded=g.edges())\n",
        "gd_results = gd.predict()\n",
        "\n",
        "top = gd_results.top(5)\n",
        "for edge, score in top.items():\n",
        "    print(edge, score)"
      ],
      "metadata": {
        "colab": {
          "base_uri": "https://localhost:8080/"
        },
        "id": "uRWXnLPE5LGQ",
        "outputId": "d21a46bd-38c8-4cb0-95b0-1b34301defef"
      },
      "execution_count": null,
      "outputs": [
        {
          "output_type": "stream",
          "name": "stdout",
          "text": [
            "LADY_CRANE - JAQEN 36.136054421768705\n",
            "TYRION - DAARIO 30.29268292682927\n",
            "CERSEI - BRIENNE 28.44827586206896\n",
            "MELISANDRE - LITTLEFINGER 23.427491305005294\n",
            "CERSEI - BRONN 23.294117647058822\n"
          ]
        }
      ]
    },
    {
      "cell_type": "markdown",
      "source": [
        "1.B.3 Rankig \\\\\n",
        "\n",
        "Гуравдагч бүлэг таамаглагчид нь граф дахь хос оройнуудын байрлалаас хамаарч холбогдох магадлалыг тооцоолно.\n",
        "Дараах асуултанд хариулж буй байдлаас хамаарч тодорхойлогдоно:\n",
        "*How similar are we?* \\\\\n",
        "SimRank \\\\\n",
        "\n",
        "Хоёр зангилаа холбоосоор холбогдохын тул тэдгээрийн хөрш оройнууд ижил төсөөтэй байх хэрэгтэй."
      ],
      "metadata": {
        "id": "VbYl4bPA5V3p"
      }
    },
    {
      "cell_type": "code",
      "source": [
        "simrank = linkpred.predictors.SimRank(g, excluded=g.edges())\n",
        "simrank_results = simrank.predict(c=0.5)\n",
        "\n",
        "top = simrank_results.top(5)\n",
        "for edge, score in top.items():\n",
        "    print(edge, score)"
      ],
      "metadata": {
        "colab": {
          "base_uri": "https://localhost:8080/"
        },
        "id": "LQjzTAHK5RjA",
        "outputId": "a01d18d7-d2cf-4f51-93ae-9b7ad3a2b0f0"
      },
      "execution_count": null,
      "outputs": [
        {
          "output_type": "stream",
          "name": "stdout",
          "text": [
            "MAESTER_CITADEL - MAESTER_AEMON 0.3920701611834253\n",
            "RAY - GATINS 0.3886464843365491\n",
            "GATINS - BERIC 0.3675791855431439\n",
            "THOROS - GATINS 0.3636591552182033\n",
            "MAESTER_AEMON - GILLY 0.319889623157789\n"
          ]
        }
      ]
    },
    {
      "cell_type": "markdown",
      "source": [
        "1.B.4 Miscellanea \\\\\n",
        "\n",
        "Энэ нь холбоосыг таамаглахдаа санамсаргүй байдлаар сонгож авдаг.\n",
        "linkpred groups here approaches that are commonly used as baselines. \\\\\n",
        "\n",
        "Random \\\\\n",
        "\n",
        "Санамсаргүй байдлаар таах."
      ],
      "metadata": {
        "id": "FKZqTAHJ5m9j"
      }
    },
    {
      "cell_type": "code",
      "source": [
        "rnd = linkpred.predictors.Random(g, excluded=g.edges())\n",
        "rnd_results = rnd.predict()\n",
        "\n",
        "top = rnd_results.top(5)\n",
        "for edge, score in top.items():\n",
        "    print(edge, score)"
      ],
      "metadata": {
        "colab": {
          "base_uri": "https://localhost:8080/"
        },
        "id": "Nsk1qLKE51FU",
        "outputId": "b384e9c8-c3e5-4015-cec9-912babfbc02e"
      },
      "execution_count": null,
      "outputs": [
        {
          "output_type": "stream",
          "name": "stdout",
          "text": [
            "TRYSTANE - THREE_EYED_RAVEN 0.9999871347420597\n",
            "SAM - ROBERT 0.9998970503344354\n",
            "ROOSE_BOLTON - HODOR 0.9998494309998781\n",
            "THOROS - KINVARA 0.9998353168966768\n",
            "SANSA - QYBURN 0.9997264864064107\n"
          ]
        }
      ]
    },
    {
      "cell_type": "markdown",
      "source": [
        "1.C Evaluation and comparison of different predictors \\\\\n",
        "\n",
        "Холбоосын таамаглагчийг үнэлэхийн тулд сургалтанд ашигладаг сүлжээг туршилтын зорилгоор ашигладаг сүлжээнээс салгах хэрэгтэй."
      ],
      "metadata": {
        "id": "b_RyXpby53U-"
      }
    },
    {
      "cell_type": "code",
      "source": [
        "import random\n",
        "import itertools\n",
        "from linkpred.evaluation import Pair\n",
        "\n",
        "# Building the test network\n",
        "test = read_net_w(f'/datalab/got-s7-edges.csv')\n",
        "\n",
        "# Exclude test network from learning phase\n",
        "training = g.copy()\n",
        "\n",
        "# Node set\n",
        "nodes = list(g.nodes())\n",
        "nodes.extend(list(test.nodes()))\n",
        "\n",
        "# Compute the test set and the universe set\n",
        "test = [Pair(i) for i in test.edges()]\n",
        "universe = set([Pair(i) for i in itertools.product(nodes, nodes) if i[0]!=i[1]])"
      ],
      "metadata": {
        "id": "QtwjC8466Vzi"
      },
      "execution_count": null,
      "outputs": []
    },
    {
      "cell_type": "markdown",
      "source": [
        "Үүний дараа урьдчилан таамаглагчдыг сургалтын сүлжээнд ашиглаж болно"
      ],
      "metadata": {
        "id": "sm24pEpB7QEW"
      }
    },
    {
      "cell_type": "code",
      "source": [
        "cn = linkpred.predictors.CommonNeighbours(training, excluded=training.edges())\n",
        "cn_results = cn.predict()\n",
        "\n",
        "aa = linkpred.predictors.AdamicAdar(training, excluded=training.edges())\n",
        "aa_results = aa.predict()\n",
        "\n",
        "jc = linkpred.predictors.Jaccard(training, excluded=training.edges())\n",
        "jc_results = jc.predict()\n"
      ],
      "metadata": {
        "id": "_YgAJYG_7WE5"
      },
      "execution_count": null,
      "outputs": []
    },
    {
      "cell_type": "markdown",
      "source": [
        "Тиймээс бид олж авсан таамаглалыг тестийн эсрэг үнэлэх боломжтой"
      ],
      "metadata": {
        "id": "MyKSRLzv7f8U"
      }
    },
    {
      "cell_type": "code",
      "source": [
        "cn_evaluation = linkpred.evaluation.EvaluationSheet(cn_results, test, universe)\n",
        "aa_evaluation = linkpred.evaluation.EvaluationSheet(aa_results, test, universe)\n",
        "jc_evaluation = linkpred.evaluation.EvaluationSheet(jc_results, test, universe)\n"
      ],
      "metadata": {
        "id": "wVP07KJY7gmR"
      },
      "execution_count": null,
      "outputs": []
    },
    {
      "cell_type": "markdown",
      "source": [
        "Үр дүнг ROC график ашиглан хялбархан харьцуулж болно"
      ],
      "metadata": {
        "id": "Bi4VtL787lOn"
      }
    },
    {
      "cell_type": "code",
      "source": [
        "plt.plot(cn_evaluation.fallout(), cn_evaluation.recall(), label=\"Common Neighbors\")\n",
        "plt.plot(aa_evaluation.fallout(), aa_evaluation.recall(), label=\"Adamic Adar\")\n",
        "plt.plot(jc_evaluation.fallout(), jc_evaluation.recall(), label=\"Jaccard\")\n",
        "plt.ylabel(\"TPR\")\n",
        "plt.xlabel(\"FPR\")\n",
        "plt.legend()\n",
        "plt.show()\n"
      ],
      "metadata": {
        "colab": {
          "base_uri": "https://localhost:8080/",
          "height": 449
        },
        "id": "j_KOr2n37uaB",
        "outputId": "4c2bfbd3-ff63-45ab-b7d2-3a626f009f9c"
      },
      "execution_count": null,
      "outputs": [
        {
          "output_type": "display_data",
          "data": {
            "text/plain": [
              "<Figure size 640x480 with 1 Axes>"
            ],
            "image/png": "[encoded data removed]"
          },
          "metadata": {}
        }
      ]
    },
    {
      "cell_type": "markdown",
      "source": [
        "ROC муруйгаар санал болгож буй үр дүнг нэгтгэн дүгнэх энгийн арга бол түүний AUC юм"
      ],
      "metadata": {
        "id": "d-ivEQBc7_26"
      }
    },
    {
      "cell_type": "code",
      "source": [
        "from sklearn.metrics import auc\n",
        "\n",
        "print(\"Area Under Roc Curve (AUROC)\")\n",
        "print(f\"Common Neigh.: \\t {auc(cn_evaluation.fallout(), cn_evaluation.recall())}\")\n",
        "print(f\"Adamic Adar: \\t {auc(aa_evaluation.fallout(), aa_evaluation.recall())}\")\n",
        "print(f\"Jaccard: \\t {auc(jc_evaluation.fallout(), jc_evaluation.recall())}\")"
      ],
      "metadata": {
        "colab": {
          "base_uri": "https://localhost:8080/"
        },
        "id": "PRGmnE5L8A7t",
        "outputId": "8476228f-7f44-4bc0-f1d5-20ce5e76b762"
      },
      "execution_count": null,
      "outputs": [
        {
          "output_type": "stream",
          "name": "stdout",
          "text": [
            "Area Under Roc Curve (AUROC)\n",
            "Common Neigh.: \t 0.026832485313825823\n",
            "Adamic Adar: \t 0.02725942524335776\n",
            "Jaccard: \t 0.018894838921578106\n"
          ]
        }
      ]
    },
    {
      "cell_type": "markdown",
      "source": [
        "**Даалгавар:**\n",
        "\n",
        "1. Jaccard болон Adamic Adar хоёр яагаад ялгаатай үр дүн үзүүлж байна вэ? Тайлбарлана уу.\n"
      ],
      "metadata": {
        "id": "MaQA_xa_8X-8"
      }
    },
    {
      "cell_type": "markdown",
      "source": [
        "**Jaccard Index гэж юу вэ?** \\\\\n",
        "\n",
        "Jaccard нь хоёр оройн хөршүүдийн нийтлэг хэсэг болон нийлбэрийн харьцааг авдаг:\n",
        "$$\n",
        "Jaccard(u, v) = \\frac{|N(u) \\cap N(v)|}{|N(u) \\cup N(v)|}\n",
        "$$\n",
        "\n",
        "\n",
        "  N(u): u оройн хөршүүд\n",
        "\n",
        "  Jaccard нь хоёр оройн хөршүүд хэр зэрэг төстэй вэ? гэдгийг хэмжинэ.\n",
        "\n",
        "  Ижил хөрштэй бол өндөр оноо өгнө.\n",
        "\n",
        "  Их хөрштэй ч давхцал багатай бол оноо буурна.\n",
        "\n",
        "**Adamic-Adar гэж юу вэ?**\n",
        "\n",
        "Adamic-Adar нь мөн нийтлэг хөрш дээр үндэслэдэг, гэхдээ нийтлэг хөршийн \"ховор байдалд\" жин өгдөг.\n",
        "\n",
        "$$\n",
        "AdamicAdar(u, v) = \\sum_{w \\in N(u) \\cap N(v)} \\frac{1}{\\log(|N(w)|)}\n",
        "$$\n",
        "\n",
        "  N(w): w оройн хөршүүдийн тоо.\n",
        "\n",
        "  Хэрвээ нийтлэг хөрш w цөөн найзтай бол (өөрөөр хэлбэл \"ховор\" хөрш) өндөр жин өгнө.\n",
        "\n",
        "  Тэгэхээр ердийн биш, онцгой нийтийн найз байвал илүү оноо авна.\n"
      ],
      "metadata": {
        "id": "tWgL_H9hA6yl"
      }
    },
    {
      "cell_type": "markdown",
      "source": [
        "2. linkpred санг ашиглан desicion tree алгоритмаар холбоосыг илрүүлж болох уу.\n",
        "\n",
        "linkpred сан нь графан дээрх холбоосын урьдчилсан таамаглал (link prediction) хийхэд зориулагдсан бөгөөд Jaccard, Adamic-Adar, Preferential Attachment зэрэг хиймэл оноо өгөх эвристик арга ашигладаг. Харин Decision Tree шиг машин сургалтын (machine learning) алгоритмуудыг шууд дэмждэггүй."
      ],
      "metadata": {
        "id": "c3wtLm-RDCqJ"
      }
    }
  ]
}