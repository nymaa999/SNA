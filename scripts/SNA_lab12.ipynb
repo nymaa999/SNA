{
  "nbformat": 4,
  "nbformat_minor": 0,
  "metadata": {
    "colab": {
      "provenance": []
    },
    "kernelspec": {
      "name": "python3",
      "display_name": "Python 3"
    },
    "language_info": {
      "name": "python"
    }
  },
  "cells": [
    {
      "cell_type": "markdown",
      "source": [
        "В221910009 Д.Нямдорж"
      ],
      "metadata": {
        "id": "i25pDZUpznIe"
      }
    },
    {
      "cell_type": "markdown",
      "source": [
        "# Лабораторын ажил 10: Network Dynamics\n",
        "\n",
        "DyNetX: динамик сүлжээг загварчлахад зориулагдсан сан Бид өнгөрсөн хичээлүүд дээр статик сүлжээний топологийг судалсан.\n",
        "Гэхдээ бодит амьдрал дээр сүлжээнд оролцогчид үүсэж, зарим тохиолдолд алга болж, заримдаа холбогдох буюу харилцаа үүсгэж,\n",
        "зарим тохиолдолд харилцан хамаарал нь үгүй болж байдаг. Өөрөөр хэлбэл цаг хугацаа өнгөрөхөд зангилаа болон холбоосууд\n",
        "нэмэгдэж, зарим тохиолдолд устдаг. Энэ нь сүлжээний бүтэц болон холбоост байдалд ихээр нөлөөлдөг. Тухайлбал, топологийн\n",
        "өөрчлөлт нь тархах үзэгдэлд ашиглагдана. DyNetx нь цаг хугацаанаас хамаарч хувьсан өөрчлөгддөг графуудыг загварлахад\n",
        "ашиглагддаг. Дараах хэсэгт бид DyNetx санг ашиглан динамик сүлжээнүүдийг байгуулах болон түүн дээр шинжилгээ хийхэд\n",
        "шаардлагатай чухал ойлголтуудыг тайлбарлана."
      ],
      "metadata": {
        "id": "2cFboRyAscWm"
      }
    },
    {
      "cell_type": "code",
      "execution_count": null,
      "metadata": {
        "id": "u2gCNrLtmRl2",
        "colab": {
          "base_uri": "https://localhost:8080/"
        },
        "outputId": "3c9ce222-0313-463e-a8c9-4e1d416fbccf"
      },
      "outputs": [
        {
          "output_type": "stream",
          "name": "stdout",
          "text": [
            "Collecting dynetx\n",
            "  Downloading dynetx-0.3.2-py3-none-any.whl.metadata (2.9 kB)\n",
            "Requirement already satisfied: numpy in /usr/local/lib/python3.11/dist-packages (from dynetx) (2.0.2)\n",
            "Requirement already satisfied: future in /usr/local/lib/python3.11/dist-packages (from dynetx) (1.0.0)\n",
            "Requirement already satisfied: tqdm in /usr/local/lib/python3.11/dist-packages (from dynetx) (4.67.1)\n",
            "Requirement already satisfied: networkx in /usr/local/lib/python3.11/dist-packages (from dynetx) (3.4.2)\n",
            "Requirement already satisfied: decorator in /usr/local/lib/python3.11/dist-packages (from dynetx) (4.4.2)\n",
            "Downloading dynetx-0.3.2-py3-none-any.whl (39 kB)\n",
            "Installing collected packages: dynetx\n",
            "Successfully installed dynetx-0.3.2\n"
          ]
        }
      ],
      "source": [
        "!pip install dynetx"
      ]
    },
    {
      "cell_type": "code",
      "source": [
        "import dynetx as dn\n",
        "import networkx as nx\n",
        "import random\n",
        "\n",
        "def read_net(filename):\n",
        "  g = nx.Graph()\n",
        "  with open(filename) as f:\n",
        "    f.readline()\n",
        "    for line in f:\n",
        "      i = line.split(\",\")\n",
        "    g.add_edge(line[0], line[1])\n",
        "  return g\n",
        "g = dn.DynGraph()"
      ],
      "metadata": {
        "id": "6aCMCmn4sulM"
      },
      "execution_count": null,
      "outputs": []
    },
    {
      "cell_type": "markdown",
      "source": [
        "# Динамик сүлжээг үүсгэх\n",
        "\n",
        "Нэг динамик сүлжээг ирмэгүүдийг нэмэх замааар үүсгэлээ. Жишээлбэл, 10 ER графуудыг үүсгэсэн ба энэ нь ижилхэн динамик\n",
        "системийн ялгаатай ялгаатай топологиудыг илэрхийлнэ.\n"
      ],
      "metadata": {
        "id": "AZB9WN3zs-Jf"
      }
    },
    {
      "cell_type": "code",
      "source": [
        "for t in range(1,9):\n",
        "  er = read_net(f'/content/got-s1-edges.csv')\n",
        "  g.add_interactions_from(er.edges, t=t)"
      ],
      "metadata": {
        "id": "aiTj4IEGs5Iq"
      },
      "execution_count": null,
      "outputs": []
    },
    {
      "cell_type": "markdown",
      "source": [
        "Бид снапшотын ID дугааруудыг дараах байдлаар авч чадна"
      ],
      "metadata": {
        "id": "GBeZ1StVvRMX"
      }
    },
    {
      "cell_type": "code",
      "source": [
        "g.temporal_snapshots_ids()"
      ],
      "metadata": {
        "colab": {
          "base_uri": "https://localhost:8080/"
        },
        "id": "LXo9YFqIvR2Q",
        "outputId": "83aeca50-5424-40bc-a551-2a7d09df5a01"
      },
      "execution_count": null,
      "outputs": [
        {
          "output_type": "execute_result",
          "data": {
            "text/plain": [
              "[1, 2, 3, 4, 5, 6, 7, 8]"
            ]
          },
          "metadata": {},
          "execution_count": 6
        }
      ]
    },
    {
      "cell_type": "markdown",
      "source": [
        "Цаашлаад бид снапшот бүрийн ID-г нь ашиглан тухайн снапшотод хандах боломжтой"
      ],
      "metadata": {
        "id": "QhW2gqYfvV8a"
      }
    },
    {
      "cell_type": "code",
      "source": [
        "g1 = g.time_slice(1)\n",
        "g1.number_of_nodes()\n",
        "g1.number_of_edges()"
      ],
      "metadata": {
        "colab": {
          "base_uri": "https://localhost:8080/"
        },
        "id": "5vtI4wLXvYIP",
        "outputId": "9ff13333-4739-41ce-f5c3-c694df49d893"
      },
      "execution_count": null,
      "outputs": [
        {
          "output_type": "execute_result",
          "data": {
            "text/plain": [
              "1"
            ]
          },
          "metadata": {},
          "execution_count": 7
        }
      ]
    },
    {
      "cell_type": "markdown",
      "source": [
        "Хэрэв хуваагдсан нэг снапшотыг шинжлэхээр бол networkx эсвэл dynetx - ийн функцүүдийг ашиглах боломжтой гэсэн үг."
      ],
      "metadata": {
        "id": "VNXHxQjVveKj"
      }
    },
    {
      "cell_type": "code",
      "source": [
        "g1_flat = nx.Graph(g1.edges())"
      ],
      "metadata": {
        "id": "TxWBosvCvfR-"
      },
      "execution_count": null,
      "outputs": []
    },
    {
      "cell_type": "markdown",
      "source": [
        "# Динамик сүлжээний хэмжүүрүүд\n",
        "\n",
        "Inter event time (Global) Distribution of inter event time (e.g., how much time before a new interaction appears in the graph) Хэчнээн\n",
        "хугацаанд тухайн графд шинэ холбоосууд үүссэн вэ? гэдгийг глобалаар буюу графын хэмжээнд авч үзвэл."
      ],
      "metadata": {
        "id": "cyGKr_99vkS8"
      }
    },
    {
      "cell_type": "code",
      "source": [
        "r = g.inter_event_time_distribution()\n",
        "print(f\"Number interactions: temporal distance\\t{r}\")"
      ],
      "metadata": {
        "colab": {
          "base_uri": "https://localhost:8080/"
        },
        "id": "OF11LU9Pvj1M",
        "outputId": "c02dcf15-4f61-4c24-8d5a-9532b3f042fb"
      },
      "execution_count": null,
      "outputs": [
        {
          "output_type": "stream",
          "name": "stdout",
          "text": [
            "Number interactions: temporal distance\t{8: 1}\n"
          ]
        }
      ]
    },
    {
      "cell_type": "markdown",
      "source": [
        "**Inter event time (Node)** \\\\\n",
        "\n",
        "Distribution of inter event time (e.g., how much time before a new interaction involving a specific node appears in the graph) Хэчнээн удаа\n",
        "тухайн графын тодорхой нэг оройд холбогдсон холбоосууд үүссэн вэ?"
      ],
      "metadata": {
        "id": "V_uJWBIwvwkz"
      }
    },
    {
      "cell_type": "code",
      "source": [
        "r = g.inter_event_time_distribution(\"M\")\n",
        "print(f\"Number interactions: temporal distance\\t{r}\")"
      ],
      "metadata": {
        "colab": {
          "base_uri": "https://localhost:8080/"
        },
        "id": "kwfuB2oowCre",
        "outputId": "f3387333-4eaf-4d60-aa6e-942ffcdc9283"
      },
      "execution_count": null,
      "outputs": [
        {
          "output_type": "stream",
          "name": "stdout",
          "text": [
            "Number interactions: temporal distance\t{}\n"
          ]
        }
      ]
    },
    {
      "cell_type": "markdown",
      "source": [
        "**Inter event time (Edge)** \\\\\n",
        "\n",
        "Distribution of inter event time (e.g., how much time before a new interaction among two nodes, u and v, appears in the graph) Хэчнээн удаа\n",
        "u болон v оройнуудыг холбосон ирмэг үүссэн вэ?"
      ],
      "metadata": {
        "id": "bZRCUsR1wFgu"
      }
    },
    {
      "cell_type": "code",
      "source": [
        "print(list(g.edges()))"
      ],
      "metadata": {
        "colab": {
          "base_uri": "https://localhost:8080/"
        },
        "id": "abwOdRjMwQCu",
        "outputId": "4500e976-abfe-4d1f-f919-1a9e4080d14f"
      },
      "execution_count": null,
      "outputs": [
        {
          "output_type": "stream",
          "name": "stdout",
          "text": [
            "[('T', 'Y')]\n"
          ]
        }
      ]
    },
    {
      "cell_type": "code",
      "source": [
        "u = 'T'\n",
        "v = 'Y'\n",
        "r = g.inter_event_time_distribution(u, v)\n",
        "print(f\"Number interactions: temporal distance\\t{r}\")"
      ],
      "metadata": {
        "colab": {
          "base_uri": "https://localhost:8080/"
        },
        "id": "cBmXRdikwST2",
        "outputId": "d2c410e1-12ce-4ee4-9a5a-0dbe125ce1ac"
      },
      "execution_count": null,
      "outputs": [
        {
          "output_type": "stream",
          "name": "stdout",
          "text": [
            "Number interactions: temporal distance\t{7: 1}\n"
          ]
        }
      ]
    },
    {
      "cell_type": "markdown",
      "source": [
        "# Degree - Оройн зэрэг\n",
        "\n",
        "Degrees can be queried time-wise Тодорхой эгшинд оройн зэрэг хэд вэ?"
      ],
      "metadata": {
        "id": "_LoCOT_6wdH0"
      }
    },
    {
      "cell_type": "code",
      "source": [
        "g.degree(t=3)['T'] # degree of node 0 at time t=2"
      ],
      "metadata": {
        "colab": {
          "base_uri": "https://localhost:8080/"
        },
        "id": "n7XgiIsvwbn7",
        "outputId": "584ad07b-b278-43e2-bee4-9b93f7de2207"
      },
      "execution_count": null,
      "outputs": [
        {
          "output_type": "execute_result",
          "data": {
            "text/plain": [
              "1"
            ]
          },
          "metadata": {},
          "execution_count": 15
        }
      ]
    },
    {
      "cell_type": "markdown",
      "source": [
        "# Coverage\n",
        "\n",
        "The ratio of existing nodes w.r.t. the possible ones"
      ],
      "metadata": {
        "id": "Wl2u5C69w3Zg"
      }
    },
    {
      "cell_type": "code",
      "source": [
        "g.coverage()"
      ],
      "metadata": {
        "colab": {
          "base_uri": "https://localhost:8080/"
        },
        "id": "utcCNcfaw9-z",
        "outputId": "265eb787-7ead-467c-cd1f-725a1662cc42"
      },
      "execution_count": null,
      "outputs": [
        {
          "output_type": "execute_result",
          "data": {
            "text/plain": [
              "1.0"
            ]
          },
          "metadata": {},
          "execution_count": 16
        }
      ]
    },
    {
      "cell_type": "markdown",
      "source": [
        "# Node contribution\n",
        "\n",
        "Node u coverage of the temporal graph"
      ],
      "metadata": {
        "id": "B9FhO9gWxB4v"
      }
    },
    {
      "cell_type": "code",
      "source": [
        "g.node_contribution(\"Y\")"
      ],
      "metadata": {
        "colab": {
          "base_uri": "https://localhost:8080/"
        },
        "id": "oqrzDoQkxJOH",
        "outputId": "792bb3e7-09e7-4536-83cb-f67eceab70ec"
      },
      "execution_count": null,
      "outputs": [
        {
          "output_type": "execute_result",
          "data": {
            "text/plain": [
              "1.0"
            ]
          },
          "metadata": {},
          "execution_count": 18
        }
      ]
    },
    {
      "cell_type": "markdown",
      "source": [
        "# Edge contribution\n",
        "\n",
        "Edge (u, v) coverage of the temporal graph."
      ],
      "metadata": {
        "id": "jNpkJUC5xOe1"
      }
    },
    {
      "cell_type": "code",
      "source": [
        "g.edge_contribution(u, v)"
      ],
      "metadata": {
        "colab": {
          "base_uri": "https://localhost:8080/"
        },
        "id": "pZdzj2CRxUcM",
        "outputId": "1c601d98-e070-4d63-93be-68355fa308b5"
      },
      "execution_count": null,
      "outputs": [
        {
          "output_type": "execute_result",
          "data": {
            "text/plain": [
              "1.0"
            ]
          },
          "metadata": {},
          "execution_count": 19
        }
      ]
    },
    {
      "cell_type": "markdown",
      "source": [
        "**Node pair uniformity** \\\\\n",
        "Overlap between the presence times of u and v"
      ],
      "metadata": {
        "id": "imnNuFOKxam9"
      }
    },
    {
      "cell_type": "code",
      "source": [
        "g.node_pair_uniformity(u, v)"
      ],
      "metadata": {
        "colab": {
          "base_uri": "https://localhost:8080/"
        },
        "id": "RIG1cpikxjl6",
        "outputId": "eaa34e38-0147-48f2-be31-11e635d16589"
      },
      "execution_count": null,
      "outputs": [
        {
          "output_type": "execute_result",
          "data": {
            "text/plain": [
              "1.0"
            ]
          },
          "metadata": {},
          "execution_count": 20
        }
      ]
    },
    {
      "cell_type": "markdown",
      "source": [
        "**Density** \\\\\n",
        "Temporal network density: fraction of possible interactions that do exist in the temporal network."
      ],
      "metadata": {
        "id": "DvbgKqTxxlnp"
      }
    },
    {
      "cell_type": "code",
      "source": [
        "g.density()"
      ],
      "metadata": {
        "colab": {
          "base_uri": "https://localhost:8080/"
        },
        "id": "i6PHDGnpxrHM",
        "outputId": "719e92a5-87de-4382-b124-194b5fb68551"
      },
      "execution_count": null,
      "outputs": [
        {
          "output_type": "execute_result",
          "data": {
            "text/plain": [
              "1.0"
            ]
          },
          "metadata": {},
          "execution_count": 21
        }
      ]
    },
    {
      "cell_type": "markdown",
      "source": [
        "**Node Density** \\\\\n",
        "Intersection among the temporal presence of the edge (u, v) and the joint temporal presences of u and v."
      ],
      "metadata": {
        "id": "hyyB9xfMxyPP"
      }
    },
    {
      "cell_type": "code",
      "source": [
        "g.node_density(v)"
      ],
      "metadata": {
        "colab": {
          "base_uri": "https://localhost:8080/"
        },
        "id": "gTmCCJJgx15t",
        "outputId": "3c229706-c9a1-4afc-c0f8-047d95255d4e"
      },
      "execution_count": null,
      "outputs": [
        {
          "output_type": "execute_result",
          "data": {
            "text/plain": [
              "0.5"
            ]
          },
          "metadata": {},
          "execution_count": 22
        }
      ]
    },
    {
      "cell_type": "markdown",
      "source": [
        "**Pair Density** \\\\\n",
        "Intersection among the temporal presence of the edge (u, v) and the joint temporal presences of u and v."
      ],
      "metadata": {
        "id": "yCPYYbd8x8pw"
      }
    },
    {
      "cell_type": "code",
      "source": [
        "g.pair_density(u,v)"
      ],
      "metadata": {
        "colab": {
          "base_uri": "https://localhost:8080/"
        },
        "id": "qQshYV_Mx5x-",
        "outputId": "93d42658-0802-4f3d-faa6-ea2f9949ac92"
      },
      "execution_count": null,
      "outputs": [
        {
          "output_type": "execute_result",
          "data": {
            "text/plain": [
              "1.0"
            ]
          },
          "metadata": {},
          "execution_count": 23
        }
      ]
    },
    {
      "cell_type": "markdown",
      "source": [
        "**Snapshot Density** \\\\\n",
        "Density of a temporal network at time t."
      ],
      "metadata": {
        "id": "HjLwxsy2yEC2"
      }
    },
    {
      "cell_type": "code",
      "source": [
        "for t in g.temporal_snapshots_ids():\n",
        "  print(f\"{t}\\t{g.snapshot_density(t)}\")"
      ],
      "metadata": {
        "colab": {
          "base_uri": "https://localhost:8080/"
        },
        "id": "7SD_yT1pyIHf",
        "outputId": "c9735b21-ce28-4ed7-d859-102ec5bb9585"
      },
      "execution_count": null,
      "outputs": [
        {
          "output_type": "stream",
          "name": "stdout",
          "text": [
            "1\t1.0\n",
            "2\t1.0\n",
            "3\t1.0\n",
            "4\t1.0\n",
            "5\t1.0\n",
            "6\t1.0\n",
            "7\t1.0\n",
            "8\t1.0\n"
          ]
        }
      ]
    },
    {
      "cell_type": "markdown",
      "source": [
        "**Даалгавар.** \\\\\n",
        "dynetx санг судална уу.\n",
        "Тодорхой нэг статик снапшотын хувьд эсвэл глобалаар буюу динамик сүлжээний хэмжээнд shortest, fastest, foremost, fastest\n",
        "shortest, shortest fastest замуудыг ол.\n",
        "Эдгээр замуудын ялгааг тайлбарла."
      ],
      "metadata": {
        "id": "t0VYG4GIyLhW"
      }
    },
    {
      "cell_type": "markdown",
      "source": [
        "dynetx (Dynamic NetworkX) нь динамик граф/сүлжээ (өөрчлөгдөж буй орой болон ирмэгтэй граф)-ийг удирдаж, тэдгээр дээр анализ хийхэд зориулагдсан Python сан юм. Энэ нь networkx дээр суурилсан бөгөөд динамик сүлжээний хувьд уламжлалт граф алгоритмуудыг хэрэгжүүлэх боломж олгодог.\n",
        "\n",
        "<table>\n",
        "  <thead>\n",
        "    <tr>\n",
        "      <th>Төрөл</th>\n",
        "      <th>Тайлбар</th>\n",
        "    </tr>\n",
        "  </thead>\n",
        "  <tbody>\n",
        "    <tr>\n",
        "      <td>Shortest Path</td>\n",
        "      <td>Оройнуудын хамгийн бага тоотой зам (edge count)</td>\n",
        "    </tr>\n",
        "    <tr>\n",
        "      <td>Fastest Path</td>\n",
        "      <td>Цаг хугацааны хувьд хамгийн хурдан хүрэх зам (travel time хамгийн бага)</td>\n",
        "    </tr>\n",
        "    <tr>\n",
        "      <td>Foremost Path</td>\n",
        "      <td>Хамгийн эрт хүрч болох зам (earliest arrival time)</td>\n",
        "    </tr>\n",
        "    <tr>\n",
        "      <td>Shortest Fastest Path</td>\n",
        "      <td>Бүх fastest замуудаас хамгийн бага орой дамжсан зам</td>\n",
        "    </tr>\n",
        "    <tr>\n",
        "      <td>Fastest Shortest Path</td>\n",
        "      <td>Бүх shortest замуудаас хамгийн хурдан хугацаанд хүрдэг зам</td>\n",
        "    </tr>\n",
        "  </tbody>\n",
        "</table>\n"
      ],
      "metadata": {
        "id": "C80OkeJYyt76"
      }
    }
  ]
}